{
  "cells": [
    {
      "cell_type": "markdown",
      "metadata": {
        "id": "view-in-github",
        "colab_type": "text"
      },
      "source": [
        "<a href=\"https://colab.research.google.com/github/joseantoniomansurmansur/entregable1jamm/blob/main/Sesi%C3%B3n18_jpynb.ipynb\" target=\"_parent\"><img src=\"https://colab.research.google.com/assets/colab-badge.svg\" alt=\"Open In Colab\"/></a>"
      ]
    },
    {
      "cell_type": "code",
      "source": [
        "#mostrar cadena\n",
        "print(\"Hola JM\")\n",
        "\n",
        "#mostrar valor de una variable\n",
        "edad=65\n",
        "print(\"su edad es:\", edad)\n",
        "\n",
        "#f-string\n",
        "nombre=\"JM\"\n",
        "print(f'welcome, {nombre}')"
      ],
      "metadata": {
        "id": "7KveGYO_16Jp",
        "outputId": "0f71d4e1-5edd-4024-b3b2-8f4d54ce4b79",
        "colab": {
          "base_uri": "https://localhost:8080/"
        }
      },
      "execution_count": null,
      "outputs": [
        {
          "output_type": "stream",
          "name": "stdout",
          "text": [
            "Hola JM\n",
            "su edad es: 65\n",
            "welcome, JM\n"
          ]
        }
      ]
    },
    {
      "cell_type": "code",
      "source": [
        "#Funciones matématicas\n",
        "numero1=int(input(\"ingrese un numero: \"))\n",
        "numero2=int(input(\"ingrese otro numero: \"))\n",
        "sumar=numero1+numero2\n",
        "resta=numero1-numero2\n",
        "multiplicacion=numero1*numero2\n",
        "division=numero1/numero2\n",
        "potencia=numero1**numero2\n",
        "print(\"la sumatoria es: \",sumar)\n",
        "print(\"la diferencia es: \",resta)\n",
        "print(\"la multiplicacion es: \",multiplicacion)\n",
        "print(\"la division es: \",division)\n",
        "print(\"la potencia es: \",potencia)"
      ],
      "metadata": {
        "id": "8JHj6n-S2q9D",
        "outputId": "c0c19a53-ee09-4c7d-c562-4932e05151c1",
        "colab": {
          "base_uri": "https://localhost:8080/"
        }
      },
      "execution_count": null,
      "outputs": [
        {
          "output_type": "stream",
          "name": "stdout",
          "text": [
            "ingrese un numero: 10\n",
            "ingrese otro numero: 5\n",
            "la sumatoria es:  15\n",
            "la diferencia es:  5\n",
            "la multiplicacion es:  50\n",
            "la division es:  2.0\n",
            "la potencia es:  100000\n"
          ]
        }
      ]
    },
    {
      "cell_type": "code",
      "source": [
        "#condicionales\n",
        "\n",
        "#CONDICIONAL SIMPLE\n",
        "#evaluar si una persona puede ejercer el derecho al voto\n",
        "edad=int(input(\"ingrese su edad: \"))\n",
        "if edad >= 18 and edad < 100:\n",
        "  print(\"si puede votar ... Felicidades\")\n",
        "else:\n",
        "    print(\"lo sentimos, usted no puede votar...\")"
      ],
      "metadata": {
        "id": "ecYxKKxs26JZ",
        "outputId": "8d19df9b-3ad4-4f0d-aea5-748a5cd93841",
        "colab": {
          "base_uri": "https://localhost:8080/"
        }
      },
      "execution_count": null,
      "outputs": [
        {
          "output_type": "stream",
          "name": "stdout",
          "text": [
            "ingrese su edad: 65\n",
            "si puede votar ... Felicidades\n"
          ]
        }
      ]
    },
    {
      "cell_type": "code",
      "source": [
        "#condicionales\n",
        "\n",
        "#CONDICIONAL IF-ELIF-ELSE\n",
        "#evaluar si una persona puede ejercer el derecho al voto\n",
        "edad=int(input(\"ingrese su edad: \"))\n",
        "if edad >= 18 and edad < 100:\n",
        "  print(\"si puede votar ... Felicidades\")\n",
        "elif edad < 18 and edad > 0:\n",
        "  print(\"lo sentimos, usted no puede votar...\")\n",
        "else:\n",
        "  print(\"verifique la edad ingresada...\")"
      ],
      "metadata": {
        "id": "j-cbxDVA3CJg",
        "outputId": "dd039b3f-842a-4f4d-d25b-a0177c430016",
        "colab": {
          "base_uri": "https://localhost:8080/"
        }
      },
      "execution_count": null,
      "outputs": [
        {
          "output_type": "stream",
          "name": "stdout",
          "text": [
            "ingrese su edad: 65\n",
            "si puede votar ... Felicidades\n"
          ]
        }
      ]
    },
    {
      "cell_type": "code",
      "source": [
        "#ciclos interativos\n",
        "\n",
        "#for\n",
        "#range(inicio,hasta,incremento)\n",
        "for i in range(20,0,-1):\n",
        "  print(i)\n",
        "\n",
        "###########\n",
        "for i in \"JM\":\n",
        "  print(i)\n",
        "\n",
        "###########\n",
        "edades=[10,25,65,23,45,32]\n",
        "for i in edades:\n",
        "  print(i)\n",
        "\n",
        "print(\"la sumatoria de los elementos\",sum(edades))"
      ],
      "metadata": {
        "id": "fiJdO2ae3Kn4",
        "outputId": "44bfb416-3c70-4396-a7e7-45ffcf62155c",
        "colab": {
          "base_uri": "https://localhost:8080/"
        }
      },
      "execution_count": null,
      "outputs": [
        {
          "output_type": "stream",
          "name": "stdout",
          "text": [
            "20\n",
            "19\n",
            "18\n",
            "17\n",
            "16\n",
            "15\n",
            "14\n",
            "13\n",
            "12\n",
            "11\n",
            "10\n",
            "9\n",
            "8\n",
            "7\n",
            "6\n",
            "5\n",
            "4\n",
            "3\n",
            "2\n",
            "1\n",
            "J\n",
            "M\n",
            "10\n",
            "25\n",
            "65\n",
            "23\n",
            "45\n",
            "32\n",
            "la sumatoria de los elementos 200\n"
          ]
        }
      ]
    },
    {
      "cell_type": "code",
      "source": [
        "#Crear listas\n",
        "items=[\"Jose\", \"Marty, Kath, Angie, Hakim, Renata\"]\n",
        "print(items[0])\n",
        "\n",
        "#Agregar elementos a la lista\n",
        "items.append(\"Migue\")\n",
        "items.append(\"Sombra\")\n",
        "items.append(\"Tony\")\n",
        "items.append(\"Mancha\")\n",
        "items.append(\"Blacky\")\n",
        "\n",
        "#Imprimir vector de datos\n",
        "print(items)\n",
        "\n",
        "#Recorrido usando while\n",
        "i=0\n",
        "n=len(items)\n",
        "while i<n :\n",
        "  print(items[i])\n",
        "  i=i+1\n",
        "\n"
      ],
      "metadata": {
        "colab": {
          "base_uri": "https://localhost:8080/"
        },
        "id": "0adHNJ2X6CwQ",
        "outputId": "57c82d3b-59d4-40b7-e659-c0e9d7aa1768"
      },
      "execution_count": 20,
      "outputs": [
        {
          "output_type": "stream",
          "name": "stdout",
          "text": [
            "Jose\n",
            "['Jose', 'Marty, Kath, Angie, Hakim, Renata', 'Migue', 'Sombra', 'Tony', 'Mancha', 'Blacky']\n",
            "Jose\n",
            "Marty, Kath, Angie, Hakim, Renata\n",
            "Migue\n",
            "Sombra\n",
            "Tony\n",
            "Mancha\n",
            "Blacky\n"
          ]
        }
      ]
    },
    {
      "cell_type": "code",
      "source": [
        "#Ventas\n",
        "\n",
        "ventas=[]\n",
        "sw=0\n",
        "\n",
        "while sw==0:\n",
        "  valor=eval(input(\"Ingrese el valor de la venta: \"))\n",
        "  ventas.append(valor)\n",
        "  sw=int(input(\"¿Desea agregar otra venta? 0-si, 1-no: \"))\n",
        "print(\"Venta del día: $\",ventas)\n",
        "print(\"Total de ventas: $\", sum(ventas))\n",
        "print(\"Venta más alta $\", max(ventas))\n",
        "print(\"Venta más baja $\", min(ventas))\n",
        "print(\"Promedio de ventas $\", (sum(ventas)/len(ventas)))\n",
        "\n",
        "\n"
      ],
      "metadata": {
        "colab": {
          "base_uri": "https://localhost:8080/"
        },
        "id": "LbPY1FseDTao",
        "outputId": "c1cf5cd2-3c23-4de1-863d-4765d88bc9ef"
      },
      "execution_count": 26,
      "outputs": [
        {
          "output_type": "stream",
          "name": "stdout",
          "text": [
            "Ingrese el valor de la venta: 120000\n",
            "¿Desea agregar otra venta? 0-si, 1-no: 0\n",
            "Ingrese el valor de la venta: 80000\n",
            "¿Desea agregar otra venta? 0-si, 1-no: 1\n",
            "Venta del día: $ [120000, 80000]\n",
            "Total de ventas: $ 200000\n",
            "Venta más alta $ 120000\n",
            "Venta más baja $ 80000\n",
            "Promedio de ventas $ 100000.0\n"
          ]
        }
      ]
    }
  ],
  "metadata": {
    "colab": {
      "provenance": [],
      "include_colab_link": true
    },
    "kernelspec": {
      "display_name": "Python 3",
      "name": "python3"
    }
  },
  "nbformat": 4,
  "nbformat_minor": 0
}