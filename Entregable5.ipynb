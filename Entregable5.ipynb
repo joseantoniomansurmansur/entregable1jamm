{
  "nbformat": 4,
  "nbformat_minor": 0,
  "metadata": {
    "colab": {
      "provenance": [],
      "authorship_tag": "ABX9TyNpp+L3NZar0x3rblpUTZ2Y",
      "include_colab_link": true
    },
    "kernelspec": {
      "name": "python3",
      "display_name": "Python 3"
    },
    "language_info": {
      "name": "python"
    }
  },
  "cells": [
    {
      "cell_type": "markdown",
      "metadata": {
        "id": "view-in-github",
        "colab_type": "text"
      },
      "source": [
        "<a href=\"https://colab.research.google.com/github/joseantoniomansurmansur/entregable1jamm/blob/main/Entregable5.ipynb\" target=\"_parent\"><img src=\"https://colab.research.google.com/assets/colab-badge.svg\" alt=\"Open In Colab\"/></a>"
      ]
    },
    {
      "cell_type": "code",
      "execution_count": null,
      "metadata": {
        "colab": {
          "base_uri": "https://localhost:8080/"
        },
        "id": "Ae3MOpeQHv_y",
        "outputId": "ded3c29a-1cdd-45ad-aa8f-8bf704e7b4e4"
      },
      "outputs": [
        {
          "output_type": "stream",
          "name": "stdout",
          "text": [
            "Ayer ganó la selección Colombia\n",
            "Hola estudiante: JAMM\n",
            "La suma de los valores es: 52.3\n",
            "La resta de los valores es: 47.7\n",
            "La multiplicación de los valores es: 114.99999999999999\n",
            "La división de los valores es: 21.73913043478261\n",
            "La elevación de los valores es: 8084.087582216962\n",
            "Cúal es tu nombre?jm\n",
            "Hola jm Cómo estás?\n",
            "Ingresa un número:99\n",
            "El número es impar\n",
            "El cuadrado de: 4 es 16\n",
            "El cuadrado de: 9 es 81\n",
            "El cuadrado de: 2 es 4\n",
            "Jose\n",
            "Marta\n",
            "Kath\n",
            "Angie\n",
            "{'Jose': 'jammansur@gmail.com', 'Marta': 'martandrade-22@hhotmail.com', 'JM': 'jm.ideas.sas@gmail.com'}\n",
            "Tu nombre es: Jose y tu correo es: jammansur@gmail.com\n",
            "Tu nombre es: Marta y tu correo es: martandrade-22@hhotmail.com\n",
            "Tu nombre es: JM y tu correo es: jm.ideas.sas@gmail.com\n",
            "Ingresa el nombre del nuevo estudiante:Renata\n",
            "['Jose', 'Marta', 'Kath', 'Angie', 'Renata']\n",
            "Ingrese el nombre:Renata\n",
            "Ingresar el correo asociado a la persona:renatahmanzur@gmail.com\n",
            "Diccionario actualizado: {'Jose': 'jammansur@gmail.com', 'Marta': 'martandrade-22@hhotmail.com', 'JM': 'jm.ideas.sas@gmail.com', 'Renata': 'renatahmanzur@gmail.com'}\n"
          ]
        }
      ],
      "source": [
        "# Parte 1\n",
        "## Mostrar mensaje por pantalla\n",
        "print(\"Ayer ganó la selección Colombia\")\n",
        "\n",
        "# Declaración de variable y operaciones\n",
        "ent = 50\n",
        "dec = 2.3\n",
        "txt = \"JAMM\"\n",
        "print(\"Hola estudiante:\", txt)\n",
        "print(\"La suma de los valores es:\", ent+dec)\n",
        "print(\"La resta de los valores es:\", ent-dec)\n",
        "print(\"La multiplicación de los valores es:\", ent*dec)\n",
        "print(\"La división de los valores es:\", ent/dec)\n",
        "print(\"La elevación de los valores es:\", ent**dec)\n",
        "\n",
        "# Concatenar cadena y pedir información\n",
        "nombre = input(\"Cúal es tu nombre?\")\n",
        "print(\"Hola\"+\" \"+nombre+\" \"+\"Cómo estás?\")\n",
        "\n",
        "# Parte 2\n",
        "## Pedir un número y decir si es par o no\n",
        "num = int(input(\"Ingresa un número:\"))\n",
        "if num % 2 == 0:\n",
        "    print(\"El número es par\")\n",
        "else:\n",
        "    print(\"El número es impar\")\n",
        "\n",
        "## Iterar sobre una lista de números e imprimir sus cuadrados\n",
        "lista = [4, 9, 2]\n",
        "for i in lista:\n",
        "    print(f\"El cuadrado de: {i} es {i**2}\")\n",
        "\n",
        "# Lista de estudiantes y mostrar su información\n",
        "estudiantes = ['Jose', 'Marta', 'Kath', 'Angie']\n",
        "for i in estudiantes:\n",
        "  print(i)\n",
        "\n",
        "# Diccionario con información de nombre y correo\n",
        "contactos = {'Jose':'jammansur@gmail.com', # La coma es importante\n",
        "              'Marta':'martandrade-22@hhotmail.com', # La coma es importante\n",
        "              'JM':'jm.ideas.sas@gmail.com'\n",
        "            }\n",
        "print(contactos)\n",
        "for clave,valor in contactos.items():\n",
        "  print(f\"Tu nombre es: {clave} y tu correo es: {valor}\")\n",
        "\n",
        "\n",
        "# Agregar o actualizar información en la lista\n",
        "nuevo_estudiante = input(\"Ingresa el nombre del nuevo estudiante:\")\n",
        "estudiantes.append(nuevo_estudiante)\n",
        "print(estudiantes)\n",
        "\n",
        "# Agregar datos en el diccionario\n",
        "nuevo_contacto = input(\"Ingrese el nombre:\")\n",
        "nuevo_correo = input(\"Ingresar el correo asociado a la persona:\")\n",
        "contactos[nuevo_contacto] = nuevo_correo\n",
        "print(\"Diccionario actualizado:\",contactos) #La coma es importante\n",
        "\n"
      ]
    },
    {
      "cell_type": "code",
      "source": [],
      "metadata": {
        "id": "vHOLHo0UifsA"
      },
      "execution_count": null,
      "outputs": []
    },
    {
      "cell_type": "code",
      "execution_count": 45,
      "metadata": {
        "colab": {
          "base_uri": "https://localhost:8080/"
        },
        "id": "K5omPpcbie8v",
        "outputId": "f4cebd77-fb2a-493c-cc85-729a0d4cee20"
      },
      "outputs": [
        {
          "output_type": "stream",
          "name": "stdout",
          "text": [
            "Eres adulto mayor\n",
            "manzana\n",
            "banana\n",
            "cereza\n",
            "1\n",
            "2\n",
            "3\n",
            "4\n",
            "5\n",
            "Ana\n",
            "Ana\n",
            "Pedro\n",
            "Marta\n"
          ]
        }
      ],
      "source": [
        "### CONDICIONALES\n",
        "# Ejemplo de uso de if, elif y else\n",
        "edad=65\n",
        "\n",
        "if edad < 18:\n",
        "    print(\"Eres menor de edad\")\n",
        "elif edad < 65:\n",
        "    print(\"Eres adulto\")\n",
        "else:\n",
        "    print(\"Eres adulto mayor\")\n",
        "\n",
        "### BUCLES\n",
        "### Bucle FOR\n",
        "# Bucle for para recorrer una lista\n",
        "\n",
        "frutas = [\"manzana\", \"banana\", \"cereza\"]\n",
        "for fruta in frutas:\n",
        "    print(fruta)\n",
        "\n",
        "#Bucle WHILE\n",
        "\n",
        "contador = 1\n",
        "while contador <= 5:\n",
        "    print(contador)\n",
        "    contador += 1\n",
        "\n",
        "### LISTAS\n",
        "# Crear una lista\n",
        "nombres = [\"Ana\", \"Luis\", \"Pedro\"]\n",
        "\n",
        "# Acceder a elementos de la lista\n",
        "print(nombres[0]) #Ana\n",
        "\n",
        "# Añadir elementos a la lista\n",
        "nombres.append(\"Marta\")\n",
        "\n",
        "# Eliminar elementos de la lista\n",
        "nombres.remove(\"Luis\")\n",
        "\n",
        "# Recorrer una lista\n",
        "for nombre in nombres:\n",
        "    print(nombre)\n"
      ]
    },
    {
      "cell_type": "code",
      "source": [
        "# Crear una función calculadora\n",
        "def calculadora(num1, num2, oper):\n",
        "    if oper == \"+\":\n",
        "      print(f\"La suma de: {num1} y {num2} es: {num1 + num2}\")\n",
        "    elif oper == \"-\":\n",
        "      print(f\"La resta de: {num1} y {num2} es: {num1 - num2}\")\n",
        "    elif oper == \"*\":\n",
        "      print(f\"La multiplicación de: {num1} y {num2} es: {num1 * num2}\")\n",
        "    elif oper == \"/\":\n",
        "      if num2 == 0:\n",
        "        print(\"La división por cero no está definida\")\n",
        "      else:\n",
        "        print(f\"La división de: {num1} y {num2} es: {num1 / num2}\")\n",
        "    else:\n",
        "      print(\"Operación no válida\")\n",
        "calculadora(10,5,\"+\")\n",
        "calculadora(10,5,\"-\")\n",
        "calculadora(10,5,\"*\")\n",
        "calculadora(10,5,\"/\")"
      ],
      "metadata": {
        "colab": {
          "base_uri": "https://localhost:8080/"
        },
        "id": "_Hzqiw1Ajhma",
        "outputId": "c0e0b6a4-55c3-44b6-8edd-5885789c4c2b"
      },
      "execution_count": 47,
      "outputs": [
        {
          "output_type": "stream",
          "name": "stdout",
          "text": [
            "La suma de: 10 y 5 es: 15\n",
            "La resta de: 10 y 5 es: 5\n",
            "La multiplicación de: 10 y 5 es: 50\n",
            "La división de: 10 y 5 es: 2.0\n"
          ]
        }
      ]
    },
    {
      "cell_type": "code",
      "source": [
        "### DICCIONARIOS\n",
        "\n",
        "# Crear un diccionario\n",
        "\n",
        "estudiante = {\n",
        "    \"nombre\": \"Juan\",\n",
        "    \"edad\": 25,\n",
        "    \"curso\": \"Python\"\n",
        "}\n",
        "\n",
        "# Acceder a valores en el diccionario\n",
        "print(estudiante[\"nombre\"]) # Juan\n",
        "\n",
        "# Añadir un nuevo par clave-valor\n",
        "estudiante[\"nota\"] = 95\n",
        "\n",
        "# Eliminar un par clave-valor\n",
        "del estudiante[\"curso\"]\n",
        "\n",
        "# Recorrer un diccionario\n",
        "for clave, valor in estudiante.items():\n",
        "    print(clave, \":\", valor)"
      ],
      "metadata": {
        "colab": {
          "base_uri": "https://localhost:8080/"
        },
        "id": "U-E20ujUj-yC",
        "outputId": "05018bdf-dbbd-4fb8-c36c-54c161297239"
      },
      "execution_count": 44,
      "outputs": [
        {
          "output_type": "stream",
          "name": "stdout",
          "text": [
            "Juan\n",
            "nombre : Juan\n",
            "edad : 25\n",
            "nota : 95\n"
          ]
        }
      ]
    }
  ]
}